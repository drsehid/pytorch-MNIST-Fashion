{
  "cells": [
    {
      "cell_type": "code",
      "execution_count": 65,
      "metadata": {
        "id": "d3066868"
      },
      "outputs": [],
      "source": [
        "import os\n",
        "import torch\n",
        "from torch import nn\n",
        "from torch.utils.data import DataLoader\n",
        "from torchvision import datasets, transforms\n",
        "from torch.utils.data import Dataset\n",
        "from torchvision.transforms import ToTensor, Lambda\n",
        "import matplotlib.pyplot as plt"
      ],
      "id": "d3066868"
    },
    {
      "cell_type": "code",
      "execution_count": 66,
      "metadata": {
        "colab": {
          "base_uri": "https://localhost:8080/"
        },
        "id": "1a8766dc",
        "outputId": "70677a7e-76f9-49b2-9286-dd403be97bff"
      },
      "outputs": [
        {
          "output_type": "stream",
          "name": "stdout",
          "text": [
            "cuda\n"
          ]
        }
      ],
      "source": [
        "device = 'cuda' if torch.cuda.is_available() else 'cpu'\n",
        "print(device)"
      ],
      "id": "1a8766dc"
    },
    {
      "cell_type": "code",
      "source": [
        "train_data = datasets.FashionMNIST(root='/data', train=True, download=True, transform=ToTensor())\n",
        "test_data = datasets.FashionMNIST(root='/data',train=False, download=True, transform=ToTensor())"
      ],
      "metadata": {
        "id": "RldQfZqQuvT8"
      },
      "id": "RldQfZqQuvT8",
      "execution_count": 67,
      "outputs": []
    },
    {
      "cell_type": "code",
      "source": [
        "train_data"
      ],
      "metadata": {
        "colab": {
          "base_uri": "https://localhost:8080/"
        },
        "id": "bINpLV4Cu4Nr",
        "outputId": "798b751e-bdfd-455d-9331-604413339774"
      },
      "id": "bINpLV4Cu4Nr",
      "execution_count": 68,
      "outputs": [
        {
          "output_type": "execute_result",
          "data": {
            "text/plain": [
              "Dataset FashionMNIST\n",
              "    Number of datapoints: 60000\n",
              "    Root location: /data\n",
              "    Split: Train\n",
              "    StandardTransform\n",
              "Transform: ToTensor()"
            ]
          },
          "metadata": {},
          "execution_count": 68
        }
      ]
    },
    {
      "cell_type": "code",
      "source": [
        "test_data"
      ],
      "metadata": {
        "colab": {
          "base_uri": "https://localhost:8080/"
        },
        "id": "VGi_p-3_u6wg",
        "outputId": "a2c84c19-70d9-4646-cbbf-4928ab6ae722"
      },
      "id": "VGi_p-3_u6wg",
      "execution_count": 69,
      "outputs": [
        {
          "output_type": "execute_result",
          "data": {
            "text/plain": [
              "Dataset FashionMNIST\n",
              "    Number of datapoints: 10000\n",
              "    Root location: /data\n",
              "    Split: Test\n",
              "    StandardTransform\n",
              "Transform: ToTensor()"
            ]
          },
          "metadata": {},
          "execution_count": 69
        }
      ]
    },
    {
      "cell_type": "code",
      "source": [
        "# Each datapoint is a tuple of: \n",
        "# 1_ image tensor\n",
        "# 2_ corresponding class\n",
        "\n",
        "# Shape of each image = (1, 28, 28) which means that each image is 28 * 28 pixel image in grayp-scale channel\n",
        "\n",
        "train_data[0][0].shape, train_data[0][1]"
      ],
      "metadata": {
        "colab": {
          "base_uri": "https://localhost:8080/"
        },
        "id": "jej1CUdqu-1V",
        "outputId": "ccca9af3-9d8d-4be8-d44a-cc97566893ae"
      },
      "id": "jej1CUdqu-1V",
      "execution_count": 70,
      "outputs": [
        {
          "output_type": "execute_result",
          "data": {
            "text/plain": [
              "(torch.Size([1, 28, 28]), 9)"
            ]
          },
          "metadata": {},
          "execution_count": 70
        }
      ]
    },
    {
      "cell_type": "code",
      "source": [
        "labels_map = {\n",
        "    0: \"T-Shirt\",\n",
        "    1: \"Trouser\",\n",
        "    2: \"Pullover\",\n",
        "    3: \"Dress\",\n",
        "    4: \"Coat\",\n",
        "    5: \"Sandal\",\n",
        "    6: \"Shirt\",\n",
        "    7: \"Sneaker\",\n",
        "    8: \"Bag\",\n",
        "    9: \"Ankle Boot\",\n",
        "}"
      ],
      "metadata": {
        "id": "7wfYtBizvFMa"
      },
      "id": "7wfYtBizvFMa",
      "execution_count": 71,
      "outputs": []
    },
    {
      "cell_type": "code",
      "source": [
        "fig, axes = plt.subplots(nrows=3, ncols=3, figsize=(5, 5), constrained_layout = True)\n",
        "n = 0\n",
        "for i in range(3):\n",
        "    for j in range(3):\n",
        "        image = train_data[n][0].reshape(28, 28)\n",
        "        label = labels_map[train_data[n][1]]\n",
        "        axes[i][j].imshow(image, cmap='gray')\n",
        "        axes[i][j].set_title(f'Label: {label}')\n",
        "        n += 1"
      ],
      "metadata": {
        "colab": {
          "base_uri": "https://localhost:8080/",
          "height": 385
        },
        "id": "Mprb_govvKaZ",
        "outputId": "7437fc44-4b55-4291-b0a2-52846919d9b9"
      },
      "id": "Mprb_govvKaZ",
      "execution_count": 72,
      "outputs": [
        {
          "output_type": "display_data",
          "data": {
            "text/plain": [
              "<Figure size 360x360 with 9 Axes>"
            ],
            "image/png": "[encoded data removed]"
          },
          "metadata": {
            "needs_background": "light"
          }
        }
      ]
    },
    {
      "cell_type": "code",
      "source": [
        "from torch.utils.data import DataLoader\n",
        "\n",
        "# We can use each one of this two functions\n",
        "func = Lambda(lambda y: torch.zeros(10, dtype=torch.float).scatter_(0, torch.tensor(y), value=1))\n",
        "\n",
        "def one_hot_encoding(label):\n",
        "    encoded_tensor = torch.zeros(10, dtype=torch.float32)\n",
        "    encoded_tensor[label] = 1.0\n",
        "    \n",
        "    return encoded_tensor\n",
        "\n",
        "train_data = datasets.FashionMNIST(root='/data', train=True, download=True, transform=ToTensor())\n",
        "test_data = datasets.FashionMNIST(root='/data',train=False, download=True, transform=ToTensor())"
      ],
      "metadata": {
        "id": "B7o_mhMevPiP"
      },
      "id": "B7o_mhMevPiP",
      "execution_count": 75,
      "outputs": []
    },
    {
      "cell_type": "code",
      "source": [
        "train_loader = DataLoader(train_data, batch_size=64, shuffle=True)\n",
        "test_loader = DataLoader(test_data, batch_size=64, shuffle=True)"
      ],
      "metadata": {
        "id": "4p5biKNowJ_8"
      },
      "id": "4p5biKNowJ_8",
      "execution_count": 76,
      "outputs": []
    },
    {
      "cell_type": "code",
      "execution_count": 77,
      "metadata": {
        "id": "a90c4e14"
      },
      "outputs": [],
      "source": [
        "class NeuralNetwork(nn.Module):\n",
        "    def __init__(self):\n",
        "        super(NeuralNetwork, self).__init__()\n",
        "        self.flatten = nn.Flatten()\n",
        "        self.linear_relu_stack = nn.Sequential(\n",
        "            nn.Linear(28*28, 512),\n",
        "            nn.ReLU(),\n",
        "            nn.Linear(512, 512),\n",
        "            nn.ReLU6(),\n",
        "            nn.Linear(512, 10),\n",
        "            nn.ReLU()\n",
        "        )\n",
        "\n",
        "    def forward(self, x):\n",
        "        x = self.flatten(x)\n",
        "        logits = self.linear_relu_stack(x)\n",
        "        return logits"
      ],
      "id": "a90c4e14"
    },
    {
      "cell_type": "code",
      "execution_count": 78,
      "metadata": {
        "id": "z-bItUSNaqzV"
      },
      "outputs": [],
      "source": [
        "model = NeuralNetwork().to(device)"
      ],
      "id": "z-bItUSNaqzV"
    },
    {
      "cell_type": "code",
      "execution_count": 79,
      "metadata": {
        "colab": {
          "base_uri": "https://localhost:8080/"
        },
        "id": "VEBeLmMjaxbt",
        "outputId": "e4bd0aec-ea4f-446a-f31c-9bab8fac320f"
      },
      "outputs": [
        {
          "output_type": "execute_result",
          "data": {
            "text/plain": [
              "NeuralNetwork(\n",
              "  (flatten): Flatten(start_dim=1, end_dim=-1)\n",
              "  (linear_relu_stack): Sequential(\n",
              "    (0): Linear(in_features=784, out_features=512, bias=True)\n",
              "    (1): ReLU()\n",
              "    (2): Linear(in_features=512, out_features=512, bias=True)\n",
              "    (3): ReLU6()\n",
              "    (4): Linear(in_features=512, out_features=10, bias=True)\n",
              "    (5): ReLU()\n",
              "  )\n",
              ")"
            ]
          },
          "metadata": {},
          "execution_count": 79
        }
      ],
      "source": [
        "model"
      ],
      "id": "VEBeLmMjaxbt"
    },
    {
      "cell_type": "code",
      "execution_count": 80,
      "metadata": {
        "colab": {
          "base_uri": "https://localhost:8080/"
        },
        "id": "UP-WZGhvbFph",
        "outputId": "fe0eec85-adb0-4935-95a1-af021269c51c"
      },
      "outputs": [
        {
          "output_type": "execute_result",
          "data": {
            "text/plain": [
              "tensor([[0.0000, 0.0334, 0.0398, 0.0000, 0.0000, 0.0000, 0.0120, 0.0496, 0.0899,\n",
              "         0.0000]], device='cuda:0', grad_fn=<ReluBackward0>)"
            ]
          },
          "metadata": {},
          "execution_count": 80
        }
      ],
      "source": [
        "X = torch.rand(1, 28, 28, device=device)\n",
        "logits = model(X)\n",
        "logits"
      ],
      "id": "UP-WZGhvbFph"
    },
    {
      "cell_type": "code",
      "execution_count": 81,
      "metadata": {
        "colab": {
          "base_uri": "https://localhost:8080/"
        },
        "id": "yNcWyt70bYP4",
        "outputId": "e5c0824a-ff1d-4ddc-b8e6-cb6c07b685a4"
      },
      "outputs": [
        {
          "output_type": "execute_result",
          "data": {
            "text/plain": [
              "tensor([[0.0977, 0.1011, 0.1017, 0.0977, 0.0977, 0.0977, 0.0989, 0.1027, 0.1069,\n",
              "         0.0977]], device='cuda:0', grad_fn=<SoftmaxBackward0>)"
            ]
          },
          "metadata": {},
          "execution_count": 81
        }
      ],
      "source": [
        "pred_prob = nn.Softmax(dim=1)(logits)\n",
        "pred_prob"
      ],
      "id": "yNcWyt70bYP4"
    },
    {
      "cell_type": "code",
      "execution_count": 82,
      "metadata": {
        "colab": {
          "base_uri": "https://localhost:8080/"
        },
        "id": "jsLELdw3byU0",
        "outputId": "78323f20-1b74-45ba-df42-a93018313fbd"
      },
      "outputs": [
        {
          "output_type": "execute_result",
          "data": {
            "text/plain": [
              "tensor([8], device='cuda:0')"
            ]
          },
          "metadata": {},
          "execution_count": 82
        }
      ],
      "source": [
        "y_pred = pred_prob.argmax(dim=1)\n",
        "y_pred"
      ],
      "id": "jsLELdw3byU0"
    },
    {
      "cell_type": "code",
      "execution_count": 83,
      "metadata": {
        "id": "24VN7zWHb8ZD"
      },
      "outputs": [],
      "source": [
        "# Model Parameters"
      ],
      "id": "24VN7zWHb8ZD"
    },
    {
      "cell_type": "code",
      "execution_count": 84,
      "metadata": {
        "colab": {
          "base_uri": "https://localhost:8080/"
        },
        "id": "MLwgdjN1e5Ka",
        "outputId": "3a7985ff-919e-40d8-c90f-6f1735a91f50"
      },
      "outputs": [
        {
          "output_type": "execute_result",
          "data": {
            "text/plain": [
              "<generator object Module.named_parameters at 0x7f9b3bb2dba0>"
            ]
          },
          "metadata": {},
          "execution_count": 84
        }
      ],
      "source": [
        "model.named_parameters()\n",
        "# It's a generator, so we can iterate over it and see what does each item is\n",
        "# Each item is a tuple:\n",
        "# 1_ Name\n",
        "# 2_ Corresponding parameters"
      ],
      "id": "MLwgdjN1e5Ka"
    },
    {
      "cell_type": "code",
      "execution_count": 85,
      "metadata": {
        "colab": {
          "base_uri": "https://localhost:8080/"
        },
        "id": "YfvnfYPJe8uA",
        "outputId": "f24b493c-8502-4d2b-ec43-a3769e9f3faf"
      },
      "outputs": [
        {
          "output_type": "stream",
          "name": "stdout",
          "text": [
            "Name: linear_relu_stack.0.weight\n",
            "Params shape: torch.Size([512, 784])\n",
            "\n",
            "Name: linear_relu_stack.0.bias\n",
            "Params shape: torch.Size([512])\n",
            "\n",
            "Name: linear_relu_stack.2.weight\n",
            "Params shape: torch.Size([512, 512])\n",
            "\n",
            "Name: linear_relu_stack.2.bias\n",
            "Params shape: torch.Size([512])\n",
            "\n",
            "Name: linear_relu_stack.4.weight\n",
            "Params shape: torch.Size([10, 512])\n",
            "\n",
            "Name: linear_relu_stack.4.bias\n",
            "Params shape: torch.Size([10])\n",
            "\n"
          ]
        }
      ],
      "source": [
        "for name, param in model.named_parameters():\n",
        "    print(f\"Name: {name}\")\n",
        "    print(f'Params shape: {param.shape}\\n')\n"
      ],
      "id": "YfvnfYPJe8uA"
    },
    {
      "cell_type": "code",
      "execution_count": 96,
      "metadata": {
        "id": "qUZtprK8gCDV"
      },
      "outputs": [],
      "source": [
        "learning_rate = 1e-3\n",
        "batch_size = 64\n",
        "epochs = 10"
      ],
      "id": "qUZtprK8gCDV"
    },
    {
      "cell_type": "code",
      "execution_count": 97,
      "metadata": {
        "id": "3-ADtSFEqGb6"
      },
      "outputs": [],
      "source": [
        "# Initialize the loss function\n",
        "loss_fn = nn.CrossEntropyLoss()\n",
        "# Initialize the optimizer\n",
        "optimizer = torch.optim.SGD(model.parameters(), lr=learning_rate)"
      ],
      "id": "3-ADtSFEqGb6"
    },
    {
      "cell_type": "code",
      "execution_count": 98,
      "metadata": {
        "id": "Mz0PL70CqyJN"
      },
      "outputs": [],
      "source": [
        "def training_loop(data_loader, model, loss_fn, optimizer):\n",
        "    size = len(data_loader.dataset)\n",
        "    for batch, (X, y) in enumerate(data_loader):\n",
        "        X, y = X.to(device), y.to(device)\n",
        "        # Compute prediction and loss\n",
        "        pred = model(X)\n",
        "        loss = loss_fn(pred, y)\n",
        "\n",
        "        # Backpropagation\n",
        "        optimizer.zero_grad()\n",
        "        loss.backward()\n",
        "        optimizer.step()\n",
        "\n",
        "        if batch %100 == 0:\n",
        "            loss, current = loss.item(), batch * len(X)\n",
        "            print(f\"loss: {loss:>7f}  [{current:>5d}/{size:>5d}]\")\n",
        "\n",
        "def test_loop(data_loader, model, loss_fn):\n",
        "    size = len(data_loader.dataset)\n",
        "    test_loss, correct = 0, 0\n",
        "\n",
        "    with torch.no_grad():\n",
        "        for X, y in data_loader:\n",
        "            X, y = X.to(device), y.to(device)\n",
        "            pred = model(X)\n",
        "            test_loss += loss_fn(pred, y).item()\n",
        "            # Why using sum()? because we are performing this on mini-batches not a single item\n",
        "            correct += (pred.argmax(1) == y).type(torch.float).sum().item()\n",
        "    test_loss /= size\n",
        "    correct /= size\n",
        "    print(f\"Test Error: \\n Accuracy: {(100*correct):>0.1f}%, Avg loss: {test_loss:>8f} \\n\")"
      ],
      "id": "Mz0PL70CqyJN"
    },
    {
      "cell_type": "code",
      "source": [
        "for t in range(epochs):\n",
        "    print(f\"Epoch {t+1}\\n-------------------------------\")\n",
        "    training_loop(train_loader, model, loss_fn, optimizer)\n",
        "    test_loop(test_loader, model, loss_fn)\n",
        "print(\"Done!\")"
      ],
      "metadata": {
        "colab": {
          "base_uri": "https://localhost:8080/"
        },
        "id": "5KY_axAzvlGG",
        "outputId": "1c8a1422-a461-4306-9973-4f2eacd613f6"
      },
      "id": "5KY_axAzvlGG",
      "execution_count": 99,
      "outputs": [
        {
          "output_type": "stream",
          "name": "stdout",
          "text": [
            "Epoch 1\n",
            "-------------------------------\n",
            "loss: 1.819067  [    0/60000]\n",
            "loss: 1.880959  [ 6400/60000]\n",
            "loss: 1.616487  [12800/60000]\n",
            "loss: 1.755870  [19200/60000]\n",
            "loss: 1.740815  [25600/60000]\n",
            "loss: 1.706523  [32000/60000]\n",
            "loss: 1.806637  [38400/60000]\n",
            "loss: 1.648026  [44800/60000]\n",
            "loss: 1.870426  [51200/60000]\n",
            "loss: 1.877596  [57600/60000]\n",
            "Test Error: \n",
            " Accuracy: 44.7%, Avg loss: 0.028293 \n",
            "\n",
            "Epoch 2\n",
            "-------------------------------\n",
            "loss: 1.754521  [    0/60000]\n",
            "loss: 1.915268  [ 6400/60000]\n",
            "loss: 1.700444  [12800/60000]\n",
            "loss: 1.756778  [19200/60000]\n",
            "loss: 1.850529  [25600/60000]\n",
            "loss: 1.739967  [32000/60000]\n",
            "loss: 1.944309  [38400/60000]\n",
            "loss: 1.878426  [44800/60000]\n",
            "loss: 2.017154  [51200/60000]\n",
            "loss: 1.709506  [57600/60000]\n",
            "Test Error: \n",
            " Accuracy: 46.3%, Avg loss: 0.027457 \n",
            "\n",
            "Epoch 3\n",
            "-------------------------------\n",
            "loss: 1.698618  [    0/60000]\n",
            "loss: 1.695363  [ 6400/60000]\n",
            "loss: 1.636889  [12800/60000]\n",
            "loss: 1.595433  [19200/60000]\n",
            "loss: 1.705760  [25600/60000]\n",
            "loss: 1.749767  [32000/60000]\n",
            "loss: 1.679028  [38400/60000]\n",
            "loss: 1.800606  [44800/60000]\n",
            "loss: 1.643858  [51200/60000]\n",
            "loss: 1.614968  [57600/60000]\n",
            "Test Error: \n",
            " Accuracy: 47.2%, Avg loss: 0.026746 \n",
            "\n",
            "Epoch 4\n",
            "-------------------------------\n",
            "loss: 1.728262  [    0/60000]\n",
            "loss: 1.651592  [ 6400/60000]\n",
            "loss: 1.627543  [12800/60000]\n",
            "loss: 1.725551  [19200/60000]\n",
            "loss: 1.653529  [25600/60000]\n",
            "loss: 1.609680  [32000/60000]\n",
            "loss: 1.526937  [38400/60000]\n",
            "loss: 1.821387  [44800/60000]\n",
            "loss: 1.790980  [51200/60000]\n",
            "loss: 1.760525  [57600/60000]\n",
            "Test Error: \n",
            " Accuracy: 47.5%, Avg loss: 0.026219 \n",
            "\n",
            "Epoch 5\n",
            "-------------------------------\n",
            "loss: 1.763266  [    0/60000]\n",
            "loss: 1.627331  [ 6400/60000]\n",
            "loss: 1.487554  [12800/60000]\n",
            "loss: 1.677979  [19200/60000]\n",
            "loss: 1.640011  [25600/60000]\n",
            "loss: 1.839442  [32000/60000]\n",
            "loss: 1.782282  [38400/60000]\n",
            "loss: 1.693638  [44800/60000]\n",
            "loss: 1.909662  [51200/60000]\n",
            "loss: 1.656132  [57600/60000]\n",
            "Test Error: \n",
            " Accuracy: 47.6%, Avg loss: 0.025792 \n",
            "\n",
            "Epoch 6\n",
            "-------------------------------\n",
            "loss: 1.423172  [    0/60000]\n",
            "loss: 1.677537  [ 6400/60000]\n",
            "loss: 1.439650  [12800/60000]\n",
            "loss: 1.746937  [19200/60000]\n",
            "loss: 1.614366  [25600/60000]\n",
            "loss: 1.585391  [32000/60000]\n",
            "loss: 1.728982  [38400/60000]\n",
            "loss: 1.402205  [44800/60000]\n",
            "loss: 1.626962  [51200/60000]\n",
            "loss: 1.689294  [57600/60000]\n",
            "Test Error: \n",
            " Accuracy: 48.1%, Avg loss: 0.025406 \n",
            "\n",
            "Epoch 7\n",
            "-------------------------------\n",
            "loss: 1.665176  [    0/60000]\n",
            "loss: 1.760759  [ 6400/60000]\n",
            "loss: 1.748437  [12800/60000]\n",
            "loss: 1.519509  [19200/60000]\n",
            "loss: 1.877449  [25600/60000]\n",
            "loss: 1.689486  [32000/60000]\n",
            "loss: 1.462880  [38400/60000]\n",
            "loss: 1.515833  [44800/60000]\n",
            "loss: 1.620958  [51200/60000]\n",
            "loss: 1.575639  [57600/60000]\n",
            "Test Error: \n",
            " Accuracy: 48.2%, Avg loss: 0.025101 \n",
            "\n",
            "Epoch 8\n",
            "-------------------------------\n",
            "loss: 1.437520  [    0/60000]\n",
            "loss: 1.616640  [ 6400/60000]\n",
            "loss: 1.730816  [12800/60000]\n",
            "loss: 1.494243  [19200/60000]\n",
            "loss: 1.584727  [25600/60000]\n",
            "loss: 1.676723  [32000/60000]\n",
            "loss: 1.537087  [38400/60000]\n",
            "loss: 1.609104  [44800/60000]\n",
            "loss: 1.553682  [51200/60000]\n",
            "loss: 1.723866  [57600/60000]\n",
            "Test Error: \n",
            " Accuracy: 48.8%, Avg loss: 0.024827 \n",
            "\n",
            "Epoch 9\n",
            "-------------------------------\n",
            "loss: 1.445541  [    0/60000]\n",
            "loss: 1.624612  [ 6400/60000]\n",
            "loss: 1.541563  [12800/60000]\n",
            "loss: 1.516651  [19200/60000]\n",
            "loss: 1.452277  [25600/60000]\n",
            "loss: 1.447571  [32000/60000]\n",
            "loss: 1.482994  [38400/60000]\n",
            "loss: 1.501099  [44800/60000]\n",
            "loss: 1.493134  [51200/60000]\n",
            "loss: 1.501838  [57600/60000]\n",
            "Test Error: \n",
            " Accuracy: 49.0%, Avg loss: 0.024543 \n",
            "\n",
            "Epoch 10\n",
            "-------------------------------\n",
            "loss: 1.500458  [    0/60000]\n",
            "loss: 1.589302  [ 6400/60000]\n",
            "loss: 1.532730  [12800/60000]\n",
            "loss: 1.427984  [19200/60000]\n",
            "loss: 1.541931  [25600/60000]\n",
            "loss: 1.390295  [32000/60000]\n",
            "loss: 1.670274  [38400/60000]\n",
            "loss: 1.433042  [44800/60000]\n",
            "loss: 1.660511  [51200/60000]\n",
            "loss: 1.404198  [57600/60000]\n",
            "Test Error: \n",
            " Accuracy: 49.2%, Avg loss: 0.024269 \n",
            "\n",
            "Done!\n"
          ]
        }
      ]
    },
    {
      "cell_type": "code",
      "source": [
        "torch.save(model.state_dict(), \"/data/model.pth\")\n",
        "\n",
        "print(\"Saved PyTorch Model State to model.pth\")"
      ],
      "metadata": {
        "id": "15kayLyDwQ6B",
        "colab": {
          "base_uri": "https://localhost:8080/"
        },
        "outputId": "de44619f-b1fe-443a-d9d0-a1afc34d1210"
      },
      "id": "15kayLyDwQ6B",
      "execution_count": 100,
      "outputs": [
        {
          "output_type": "stream",
          "name": "stdout",
          "text": [
            "Saved PyTorch Model State to model.pth\n"
          ]
        }
      ]
    },
    {
      "cell_type": "code",
      "source": [
        "import onnxruntime\n",
        "import torch.onnx as onnx\n",
        "import torchvision.models as models"
      ],
      "metadata": {
        "id": "z-8sg35hPHi-"
      },
      "id": "z-8sg35hPHi-",
      "execution_count": 103,
      "outputs": []
    },
    {
      "cell_type": "code",
      "source": [
        "saved_model = NeuralNetwork()\n",
        "saved_model.load_state_dict(torch.load('/data/model.pth'))\n",
        "saved_model.eval()"
      ],
      "metadata": {
        "colab": {
          "base_uri": "https://localhost:8080/"
        },
        "id": "aK_2EwPPPNJa",
        "outputId": "8680bc31-d31c-4d99-f9e8-fc876c00b310"
      },
      "id": "aK_2EwPPPNJa",
      "execution_count": 104,
      "outputs": [
        {
          "output_type": "execute_result",
          "data": {
            "text/plain": [
              "NeuralNetwork(\n",
              "  (flatten): Flatten(start_dim=1, end_dim=-1)\n",
              "  (linear_relu_stack): Sequential(\n",
              "    (0): Linear(in_features=784, out_features=512, bias=True)\n",
              "    (1): ReLU()\n",
              "    (2): Linear(in_features=512, out_features=512, bias=True)\n",
              "    (3): ReLU6()\n",
              "    (4): Linear(in_features=512, out_features=10, bias=True)\n",
              "    (5): ReLU()\n",
              "  )\n",
              ")"
            ]
          },
          "metadata": {},
          "execution_count": 104
        }
      ]
    },
    {
      "cell_type": "code",
      "source": [
        "input_image = torch.zeros((1,28,28))\n",
        "onnx_model = '/data/model.onnx'\n",
        "onnx.export(saved_model, input_image, onnx_model)"
      ],
      "metadata": {
        "id": "-CNxYsi6PTH_"
      },
      "id": "-CNxYsi6PTH_",
      "execution_count": 105,
      "outputs": []
    },
    {
      "cell_type": "code",
      "source": [
        "classes = [\n",
        "    \"T-shirt/top\",\n",
        "    \"Trouser\",\n",
        "    \"Pullover\",\n",
        "    \"Dress\",\n",
        "    \"Coat\",\n",
        "    \"Sandal\",\n",
        "    \"Shirt\",\n",
        "    \"Sneaker\",\n",
        "    \"Bag\",\n",
        "    \"Ankle boot\",\n",
        "]"
      ],
      "metadata": {
        "id": "4kOfWKS6PXoM"
      },
      "id": "4kOfWKS6PXoM",
      "execution_count": 106,
      "outputs": []
    },
    {
      "cell_type": "code",
      "source": [
        "x, y = test_data[0][0], test_data[0][1]"
      ],
      "metadata": {
        "id": "vpLCQKJ7PZfH"
      },
      "id": "vpLCQKJ7PZfH",
      "execution_count": 107,
      "outputs": []
    },
    {
      "cell_type": "code",
      "source": [
        "session = onnxruntime.InferenceSession(onnx_model, None)\n",
        "input_name = session.get_inputs()[0].name\n",
        "output_name = session.get_outputs()[0].name\n",
        "\n",
        "result = session.run([output_name], {input_name: x.numpy()})\n",
        "predicted, actual = classes[result[0][0].argmax(0)], classes[y]\n",
        "print(f'Predicted: \"{predicted}\", Actual: \"{actual}\"')"
      ],
      "metadata": {
        "colab": {
          "base_uri": "https://localhost:8080/"
        },
        "id": "MA41giKOPb5w",
        "outputId": "ab86ab79-a429-446a-e280-0ef4adff8e73"
      },
      "id": "MA41giKOPb5w",
      "execution_count": 108,
      "outputs": [
        {
          "output_type": "stream",
          "name": "stdout",
          "text": [
            "Predicted: \"Sandal\", Actual: \"Ankle boot\"\n"
          ]
        }
      ]
    },
    {
      "cell_type": "code",
      "source": [],
      "metadata": {
        "id": "GyqbFqWWPdbR"
      },
      "id": "GyqbFqWWPdbR",
      "execution_count": null,
      "outputs": []
    }
  ],
  "metadata": {
    "accelerator": "GPU",
    "colab": {
      "provenance": []
    },
    "gpuClass": "standard",
    "kernelspec": {
      "display_name": "Python 3 (ipykernel)",
      "language": "python",
      "name": "python3"
    },
    "language_info": {
      "codemirror_mode": {
        "name": "ipython",
        "version": 3
      },
      "file_extension": ".py",
      "mimetype": "text/x-python",
      "name": "python",
      "nbconvert_exporter": "python",
      "pygments_lexer": "ipython3",
      "version": "3.9.13"
    }
  },
  "nbformat": 4,
  "nbformat_minor": 5
}
